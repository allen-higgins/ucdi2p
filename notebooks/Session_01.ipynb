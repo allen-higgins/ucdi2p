{
 "cells": [
  {
   "cell_type": "markdown",
   "metadata": {
    "id": "trQkTuDfxHwr"
   },
   "source": [
    "# Session 1: Why Python? Foundations & Tooling\n",
    "\n",
    "**Objective:** Understand the relevance of programming in modern finance and set up the development environment."
   ]
  },
  {
   "cell_type": "markdown",
   "metadata": {
    "id": "cG8NHhnFxHwv"
   },
   "source": [
    "## The Role of Python in Finance & Economics\n",
    "\n",
    "Welcome! In this session, we'll explore why Python has become the go-to programming language in the financial industry. Its power lies in its simplicity, readability, and a massive ecosystem of specialized libraries.\n",
    "\n",
    "Python is used extensively for:\n",
    "- **Quantitative Finance:** Developing and backtesting complex trading models.\n",
    "- **Econometrics:** Performing statistical analysis and modeling on economic data.\n",
    "- **Data Analysis:** Cleaning, transforming, and analyzing large datasets of market data.\n",
    "- **Algorithmic Trading:** Automating trading strategies based on predefined rules.\n",
    "- **Risk Management:** Calculating metrics like VaR (Value at Risk) and running simulations."
   ]
  },
  {
   "cell_type": "markdown",
   "metadata": {
    "id": "92THcXYhxHwv"
   },
   "source": [
    "## Your First Lines of Code: Core Concepts\n",
    "\n",
    "One of the simplest programs you can write is called \"Hello, World\".\n",
    "- Traditionally used to introduce a programming language.\n",
    "- Is a good first test to make sure a language or system is working correctly.\n",
    "- Read the Wikipedia page to learn some of the lore about\n",
    "[Hello, World](https://en.wikipedia.org/wiki/%22Hello,_World!%22_program)\n",
    "\n",
    "You will notice some text in our code is preceded by a # symbol. These are **comments**. Comments are there for other humans and ignored by the Python interpreter. We use comments to explain the code to each other. Good comments are helpful for code readability, remind us what the code is for, leave a note to come back to finish something, or to block out lines of code to test new ideas.\n",
    "\n",
    "**Practical Exercise**\n",
    "\n",
    "Type the following code into the code cell below:\n",
    "\n",
    "`print(\"Hello, World! Welcome to Python for Finance.\")`\n",
    "\n",
    "The print() function displays text to the screen. The print function accepts text, otherwise known as a string, but the text must be placed in between single or double quotes."
   ]
  },
  {
   "cell_type": "code",
   "execution_count": null,
   "metadata": {
    "executionInfo": {
     "elapsed": 3,
     "status": "ok",
     "timestamp": 1757088108546,
     "user": {
      "displayName": "Allen Higgins",
      "userId": "03709571796361164306"
     },
     "user_tz": -60
    },
    "id": "4m2Y1m8_xHww"
   },
   "outputs": [],
   "source": [
    "# This is a code cell. \n",
    "# Enter the code as instructed above \n",
    "# then click the 'play' button or select 'Run'. \n"
   ]
  },
  {
   "cell_type": "markdown",
   "metadata": {
    "id": "uHWB5Y7JxHwx"
   },
   "source": [
    "### Variables & Data Types\n",
    "Programming revolves around a few core ideas. We'll start with the most basic ones: variables, data types, and boolean logic.\n",
    "\n",
    "A **variable** is a name that stores a value. Think of it as a labeled box where you can put information. This information comes in different **data types**.\n",
    "\n",
    "An **integer** is a whole number.\n",
    "\n",
    "A **float** is a number with a decimal point.\n",
    "\n",
    "A **string** is text, enclosed in quotes.\n",
    "\n",
    "A **boolean** is a data type that represents one of two values: True or False. These values are used to represent truth values in logic and are fundamental for conditional statements and comparisons."
   ]
  },
  {
   "cell_type": "markdown",
   "metadata": {
    "id": "32lBmK0vjIaK"
   },
   "source": [
    "**Practical Exercise:**\n",
    "\n",
    "1. Enter code into the code cell below that assigns a value of `100` to a new variable called `number_of_shares`.\n",
    "\n",
    "1. Enter a second line of code that assigns a value of `175.50` to a new variable called `stock_price`.\n",
    "\n",
    "1. Enter a third line of code that assigns the string `\"Apple Inc.\"` to a new variable called `company_name`.\n",
    "\n",
    "1. Enter three print commands to return the values of these three variables."
   ]
  },
  {
   "cell_type": "code",
   "execution_count": null,
   "metadata": {
    "executionInfo": {
     "elapsed": 4,
     "status": "ok",
     "timestamp": 1757088102239,
     "user": {
      "displayName": "Allen Higgins",
      "userId": "03709571796361164306"
     },
     "user_tz": -60
    },
    "id": "MDia7d2bxHwx"
   },
   "outputs": [],
   "source": [
    "# This is a code cell. \n",
    "# Enter the code as instructed above \n",
    "# then click the 'play' button or select 'Run'. \n",
    "\n",
    "number_of_shares = 100\n",
    "print(number_of_shares)"
   ]
  },
  {
   "cell_type": "markdown",
   "metadata": {
    "id": "p-Dvaa7Xk2Xe"
   },
   "source": [
    "**Practical Exercise:**\n",
    "\n",
    "Let's use Python's built-in `type()` function to check the data type of our variables. When you call the `type()` function with the name of a variable as an argument, it returns the type of object referred to by the variable.\n",
    "\n",
    "We've already used Python's `print()` function, now let's combine it with the `type()` function to print out the type values for our three variables.\n",
    "\n",
    "Start by writing code to return the types of `number_of_shares` and `stock_price` and `company_name)`.\n",
    "\n",
    "Note that if you have already run the previous code cells then the variables you defined earlier are still available to the IPython kernel and can used without reinitialising them. If you haven't completed and run the previous code cells then you'll get an error like... `NameError: name 'stock_price' is not defined`. Just edit the code and run, repeat until it works."
   ]
  },
  {
   "cell_type": "code",
   "execution_count": null,
   "metadata": {
    "executionInfo": {
     "elapsed": 6,
     "status": "ok",
     "timestamp": 1757088100131,
     "user": {
      "displayName": "Allen Higgins",
      "userId": "03709571796361164306"
     },
     "user_tz": -60
    },
    "id": "eOIHlfIQxHwy"
   },
   "outputs": [],
   "source": [
    "# This is a code cell. \n",
    "# Enter the code as instructed above \n",
    "# then click the 'play' button or select 'Run'.\n",
    "\n",
    "print(type(number_of_shares))"
   ]
  },
  {
   "cell_type": "markdown",
   "metadata": {
    "id": "fEEXwcqtKdyB"
   },
   "source": [
    "### Introduction to Logical Operators in Python\n",
    "\n",
    "Logical operators are used to combine or modify conditional statements. They operate on boolean values (`True` or `False`) and also return a boolean value. The three fundamental logical operators in Python are `and`, `or`, and `not`."
   ]
  },
  {
   "cell_type": "markdown",
   "metadata": {
    "id": "vQydY6KmnxIG"
   },
   "source": [
    "In the next few practice exercises we'll use the `print()` function in a slightly different way, `print(f\"Text {expression}\")`.\n",
    "\n",
    "The f means [Formatted string literals](https://docs.python.org/3.6/reference/lexical_analysis.html#formatted-string-literals) and it's new in Python 3.6. A formatted string literal or f-string is a string literal that is prefixed with f or F. These strings may contain replacement fields, which are expressions delimited by curly braces `{}`. While other string literals always have a constant value, formatted strings are really expressions evaluated at run time."
   ]
  },
  {
   "cell_type": "code",
   "execution_count": null,
   "metadata": {},
   "outputs": [],
   "source": [
    "# This is a code cell. \n",
    "# Click the 'play' button or select 'Run'.\n",
    "in_line = \"some text\"\n",
    "print(f\"The type of the variable 'in_line' is {type(in_line)}\")\n"
   ]
  },
  {
   "cell_type": "markdown",
   "metadata": {
    "id": "hM9gttb_K5Uv"
   },
   "source": [
    "#### The `and` Operator\n",
    "\n",
    "The `and` operator returns `True` only if **both** conditions on its left and right are `True`. Otherwise, it returns `False`.\n",
    "\n",
    "**Practical Exercise:**\n",
    "\n",
    "Click the 'play' button or select 'Run' in the code cell below to run it. Did the code return the values you expected?"
   ]
  },
  {
   "cell_type": "code",
   "execution_count": null,
   "metadata": {
    "colab": {
     "base_uri": "https://localhost:8080/"
    },
    "executionInfo": {
     "elapsed": 9,
     "status": "ok",
     "timestamp": 1757088732044,
     "user": {
      "displayName": "Allen Higgins",
      "userId": "03709571796361164306"
     },
     "user_tz": -60
    },
    "id": "Yeue2pOOLCbb",
    "outputId": "bead9355-c56f-43f0-998c-5da869710f17"
   },
   "outputs": [],
   "source": [
    "# This is a code cell. \n",
    "# Click the 'play' button or select 'Run'.\n",
    "\n",
    "print(f\"True and True is {True and True}\")\n",
    "print(f\"True and False is {True and False}\")\n",
    "print(f\"False and False is {False and False}\")"
   ]
  },
  {
   "cell_type": "markdown",
   "metadata": {
    "id": "HK2hLuRipmfW"
   },
   "source": [
    "Now let's use the `and` operator in a finance example: deciding whether to execute a stock purchase or not.\n",
    "\n",
    "This example uses Python's conditional **if-else** statement The Python **if-else** statement is used to execute both the **true** and **false** parts of a condition. If the condition is **true**, the code within the “if” block is executed. If the condition is false, the code within the “else” block is executed.\n",
    "\n",
    "Note: This example also uses the `\\n` instruction in the `print()` function. In Python, `\\n` is a type of escape character that will create a new print line when used. There are a few other escape sequences, which are simple ways to change how certain characters work in print statements or strings. The general idea is that `\\n` is actually representing a \"newline\" character. It does print, but it prints a line break. The backslash character `\\` is used here as an escape command telling Python to do something special (insert a \"newline\" character).\n",
    "\n",
    "**Practical Exercise:**\n",
    "In the next code cell type in the following code exactly. This code will initialise three new variables and test their values to determine whether to execute a stock trade or not!\n",
    "\n",
    "```\n",
    "target_price = 150.0\n",
    "current_price = 148.5\n",
    "has_sufficient_funds = True\n",
    "\n",
    "if current_price < target_price and has_sufficient_funds:\n",
    "    print(\"\\nExecute trade: Price is below target and funds are available.\")\n",
    "else:\n",
    "    print(\"\\nDo not execute trade: Conditions not met.\")\n",
    "```"
   ]
  },
  {
   "cell_type": "code",
   "execution_count": null,
   "metadata": {
    "id": "mP2YcsCHqzau"
   },
   "outputs": [],
   "source": [
    "# This is a code cell. \n",
    "# Enter the code as instructed above \n",
    "# then click the 'play' button or select 'Run'.\n"
   ]
  },
  {
   "cell_type": "markdown",
   "metadata": {
    "id": "15pex4dQLJxG"
   },
   "source": [
    "#### The `or` Operator\n",
    "\n",
    "The `or` operator returns `True` if **at least one** of the conditions on its left or right is `True`. It only returns `False` if both conditions are `False`."
   ]
  },
  {
   "cell_type": "code",
   "execution_count": null,
   "metadata": {
    "colab": {
     "base_uri": "https://localhost:8080/"
    },
    "id": "3fCPArMiLOae",
    "outputId": "cccd3492-7b50-4bbd-ea23-2896bd5e1e8d"
   },
   "outputs": [],
   "source": [
    "# This is a code cell. \n",
    "# Click the 'play' button or select 'Run'.\n",
    "\n",
    "print(f\"True or True is {True or True}\")\n",
    "print(f\"True or False is {True or False}\")\n",
    "print(f\"False or False is {False or False}\")\n",
    "\n",
    "# Economics Example: Flagging a country for economic review\n",
    "high_inflation = False\n",
    "high_unemployment = True\n",
    "\n",
    "if high_inflation or high_unemployment:\n",
    "    print(f\"\\nFlag for economic review: At least one indicator is high.\")\n",
    "else:\n",
    "    print(f\"\\nEconomic indicators are stable.\")"
   ]
  },
  {
   "cell_type": "markdown",
   "metadata": {
    "id": "u0OlpOnLLTAy"
   },
   "source": [
    "#### The `not` Operator\n",
    "\n",
    "The `not` operator is a unary operator, meaning it only acts on one condition. It simply inverts the boolean value. `not True` becomes `False`, and `not False` becomes `True`."
   ]
  },
  {
   "cell_type": "code",
   "execution_count": null,
   "metadata": {
    "colab": {
     "base_uri": "https://localhost:8080/"
    },
    "id": "z6CyhjTpLXFE",
    "outputId": "266ddc87-e59f-49bc-f923-c50132b7fa23"
   },
   "outputs": [],
   "source": [
    "# This is a code cell. \n",
    "# Click the 'play' button or select 'Run'.\n",
    "\n",
    "print(f\"not True is {not True}\")\n",
    "print(f\"not False is {not False}\")\n",
    "\n",
    "# Finance Example: Checking if a market is open\n",
    "is_market_holiday = False\n",
    "\n",
    "if not is_market_holiday:\n",
    "    print(\"\\nMarket is open for trading.\")\n",
    "else:\n",
    "    print(\"\\nMarket is closed for the holiday.\")"
   ]
  },
  {
   "cell_type": "markdown",
   "metadata": {
    "id": "AQm4mgX5LZvv"
   },
   "source": [
    "#### Summary\n",
    "\n",
    "- **`A and B`**: True only when both A and B are True.\n",
    "- **`A or B`**: True when either A or B (or both) are True.\n",
    "- **`not A`**: True if A is False, and False if A is True."
   ]
  },
  {
   "cell_type": "markdown",
   "metadata": {
    "id": "foVq1nB86pFv"
   },
   "source": [
    "# Policy on AI Chat\n",
    "We will be using AI Chat throughout this course.\n",
    "Both Google Gemini and Microsoft Copilot are expected to be used.\n",
    "Let's have some fun with Gemini in Colab before moving on to the next section!\n",
    "\n",
    "In the **Code** box below select `generate with AI` and enter the following instruction to the Gemini prompt...\n",
    "`create python code to play rock paper scissors`\n"
   ]
  },
  {
   "cell_type": "markdown",
   "metadata": {
    "id": "_f5-rh7oxHwy",
    "jp-MarkdownHeadingCollapsed": true
   },
   "source": [
    "## The Tooling Workshop\n",
    "\n",
    "A good craftsperson needs good tools. In this course, we will use an industry-standard setup.\n",
    "\n",
    "**1. Anaconda:**\n",
    "This is a distribution of Python that comes packaged with all the essential data science libraries (like NumPy and Pandas, which we'll see later) and tools like Conda for managing environments and Jupyter.\n",
    "\n",
    "**2. Jupyter Notebooks & Google Colab:**\n",
    "You are using a Colab notebook right now! These are interactive environments that let you write and run code in blocks (cells) alongside text and images. They are fantastic for exploration and analysis.\n",
    "\n",
    "**3. Visual Studio (VS) Code:**\n",
    "While notebooks are great for exploration, for larger projects you'll use a professional code editor like VS Code. It offers powerful features for debugging, testing, and managing complex codebases.\n",
    "\n",
    "**4. Git & GitHub:**\n",
    "Git is a version control system. It's like a 'save' button on steroids, allowing you to track every change you make to your code. GitHub is a website that hosts your Git repositories, allowing you to store your code online and collaborate with others."
   ]
  },
  {
   "cell_type": "markdown",
   "metadata": {
    "id": "FHYIP5z1xHwy",
    "jp-MarkdownHeadingCollapsed": true
   },
   "source": [
    "## Practical Task: Your Setup Checklist\n",
    "\n",
    "Your homework after this session is to get your professional environment set up. Follow these steps:\n",
    "\n",
    "- [ ] **Install Anaconda:** Go to the [Anaconda Distribution](https://www.anaconda.com/products/distribution) website and download the installer for your operating system.\n",
    "- [ ] **Install VS Code:** Go to the VS Code website [code.visualstudio.com](https://code.visualstudio.com/download) and download the installer for your operating system. After installing VS Code we recommend you run VS Code using the launcher from Anaconda-Navigator. You may need to install the official Python extension from Microsoft and other Extensions from the VS Code Extensions Marketplace.\n",
    "- [ ] **Test your installation by running \"Hello, World!\" in VS Code:**\n",
    "    1. Create a new file in VS Code named `session1.py`.\n",
    "    2. Type `print(\"Hello from VS Code!\")` in the file.\n",
    "    3. Save the file and run it from the VS Code terminal by typing `python session1.py`. Note that you many need to provide the path to python and the path to your saved file. Have a look at the TERMINAL tab in VS Code when you select the **Play** button aka `Run Python File` or from the menu `Run>Run Without Debugging ^F5`.\n",
    "- [ ] **Create a GitHub Account:** Sign up for a free account using your UCD Connect email address at [GitHub.com](https://github.com).\n",
    "- [ ] **Create a Repository:** On your GitHub profile, create a new repository. You can name it something like `python-for-finance-course`.\n",
    "\n",
    "Note that you may need to enable your browser `settings > websites > popup windows` for these application pages.\n"
   ]
  }
 ],
 "metadata": {
  "colab": {
   "provenance": [
    {
     "file_id": "1w5IPW1HZw0WWn9XtvXe3htjAJ8S1pYb9",
     "timestamp": 1757086362642
    }
   ]
  },
  "kernelspec": {
   "display_name": "Python [conda env:base] *",
   "language": "python",
   "name": "conda-base-py"
  },
  "language_info": {
   "codemirror_mode": {
    "name": "ipython",
    "version": 3
   },
   "file_extension": ".py",
   "mimetype": "text/x-python",
   "name": "python",
   "nbconvert_exporter": "python",
   "pygments_lexer": "ipython3",
   "version": "3.12.7"
  },
  "panel-cell-order": [
   "e19a43c6",
   "5fb62fdb",
   "4d858918",
   "553d807c",
   "5fd29c0e",
   "b0cbbd8a",
   "8bac2015",
   "f1ca00e7",
   "e6a82abd",
   "144af14f",
   "c1f6b7d5",
   "aa7da8d8",
   "b9f3b312",
   "e136df9f",
   "ffb518d4",
   "cec1e5ff",
   "1b699b6e"
  ]
 },
 "nbformat": 4,
 "nbformat_minor": 4
}
