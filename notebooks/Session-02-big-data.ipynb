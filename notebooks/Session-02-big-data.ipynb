{
 "cells": [
  {
   "cell_type": "markdown",
   "id": "87d5daa9",
   "metadata": {},
   "source": [
    "# From Spreadsheets to Scripts: A Practical Demonstration\n",
    "\n",
    "This notebook demonstrates why and how Python becomes a superior tool to spreadsheets as data analysis tasks increase in scale and complexity. We will walk through three scenarios."
   ]
  },
  {
   "cell_type": "markdown",
   "id": "0bd4c81c",
   "metadata": {},
   "source": [
    "### Setup\n",
    "First, let's import the necessary libraries and create our sample datasets as CSV files."
   ]
  },
  {
   "cell_type": "code",
   "execution_count": 6,
   "id": "89ca15d3",
   "metadata": {},
   "outputs": [
    {
     "name": "stdout",
     "output_type": "stream",
     "text": [
      "Sample CSV files created successfully.\n"
     ]
    }
   ],
   "source": [
    "import pandas as pd\n",
    "import numpy as np\n",
    "import seaborn as sns\n",
    "import matplotlib.pyplot as plt\n",
    "from io import StringIO\n",
    "\n",
    "# -- Create Sample Data --\n",
    "\n",
    "# Scenario 1: Simple Sales Data\n",
    "sales_csv = \"\"\"Date,Region,Product,UnitsSold,Price\n",
    "2023-10-01,North,Widget A,100,5.00\n",
    "2023-10-01,South,Widget B,150,7.50\n",
    "2023-10-02,North,Widget B,80,7.50\n",
    "2023-10-02,West,Widget A,120,5.00\n",
    "2023-10-03,South,Widget A,200,5.00\n",
    "2023-10-03,West,Widget C,50,12.00\n",
    "\"\"\"\n",
    "with open('data_files/sales.csv', 'w') as f:\n",
    "    f.write(sales_csv)\n",
    "\n",
    "# Scenario 2: Messy Transaction Data\n",
    "transactions_csv = \"\"\"TransactionID,Timestamp,CustomerID,Amount,Status\n",
    "1,2023-11-01 09:02,101,150.00,Completed\n",
    "2,2023-11-01 09:05,102,75.50,completed\n",
    "3,2023-11-01 09:06,101,,COMPLETED \n",
    "4,2023-11-01 09:10,103,25.00,failed\n",
    "5,2023-11-01 09:12,104,500.00,Completed\n",
    "6,2023-11-01 09:15,102,15.25,Completed\n",
    "\"\"\"\n",
    "with open('data_files/transactions.csv', 'w') as f:\n",
    "    f.write(transactions_csv)\n",
    "\n",
    "# Scenario 3: Customer Demographics\n",
    "customers_csv = \"\"\"CustomerID,AgeGroup,Location\n",
    "101,25-34,North\n",
    "102,35-44,West\n",
    "103,18-24,North\n",
    "104,45-54,South\n",
    "\"\"\"\n",
    "with open('data_files/customers.csv', 'w') as f:\n",
    "    f.write(customers_csv)\n",
    "\n",
    "print(\"Sample CSV files created successfully.\")"
   ]
  },
  {
   "cell_type": "markdown",
   "id": "b4271903",
   "metadata": {},
   "source": [
    "---"
   ]
  },
  {
   "cell_type": "markdown",
   "id": "8f355df2",
   "metadata": {},
   "source": [
    "### Scenario 1: Basic Aggregation (The \"Pivot Table\" Task)\n",
    "\n",
    "**Task:** Calculate the total revenue per region.\n",
    "\n",
    "**Excel Approach:** You would manually create a 'Revenue' column by multiplying 'UnitsSold' and 'Price', then create a Pivot Table to sum the new 'Revenue' column, grouping by 'Region'. This is easy for a one-off task.\n",
    "\n",
    "**Python Approach:** We write a short, repeatable script."
   ]
  },
  {
   "cell_type": "code",
   "execution_count": 7,
   "id": "45ca45fd",
   "metadata": {},
   "outputs": [
    {
     "name": "stdout",
     "output_type": "stream",
     "text": [
      "--- Revenue by Region ---\n",
      "Region\n",
      "North    1100.0\n",
      "South    2125.0\n",
      "West     1200.0\n",
      "Name: Revenue, dtype: float64\n"
     ]
    },
    {
     "data": {
      "text/html": [
       "<div>\n",
       "<style scoped>\n",
       "    .dataframe tbody tr th:only-of-type {\n",
       "        vertical-align: middle;\n",
       "    }\n",
       "\n",
       "    .dataframe tbody tr th {\n",
       "        vertical-align: top;\n",
       "    }\n",
       "\n",
       "    .dataframe thead th {\n",
       "        text-align: right;\n",
       "    }\n",
       "</style>\n",
       "<table border=\"1\" class=\"dataframe\">\n",
       "  <thead>\n",
       "    <tr style=\"text-align: right;\">\n",
       "      <th></th>\n",
       "      <th>Date</th>\n",
       "      <th>Region</th>\n",
       "      <th>Product</th>\n",
       "      <th>UnitsSold</th>\n",
       "      <th>Price</th>\n",
       "      <th>Revenue</th>\n",
       "    </tr>\n",
       "  </thead>\n",
       "  <tbody>\n",
       "    <tr>\n",
       "      <th>0</th>\n",
       "      <td>2023-10-01</td>\n",
       "      <td>North</td>\n",
       "      <td>Widget A</td>\n",
       "      <td>100</td>\n",
       "      <td>5.0</td>\n",
       "      <td>500.0</td>\n",
       "    </tr>\n",
       "    <tr>\n",
       "      <th>1</th>\n",
       "      <td>2023-10-01</td>\n",
       "      <td>South</td>\n",
       "      <td>Widget B</td>\n",
       "      <td>150</td>\n",
       "      <td>7.5</td>\n",
       "      <td>1125.0</td>\n",
       "    </tr>\n",
       "    <tr>\n",
       "      <th>2</th>\n",
       "      <td>2023-10-02</td>\n",
       "      <td>North</td>\n",
       "      <td>Widget B</td>\n",
       "      <td>80</td>\n",
       "      <td>7.5</td>\n",
       "      <td>600.0</td>\n",
       "    </tr>\n",
       "    <tr>\n",
       "      <th>3</th>\n",
       "      <td>2023-10-02</td>\n",
       "      <td>West</td>\n",
       "      <td>Widget A</td>\n",
       "      <td>120</td>\n",
       "      <td>5.0</td>\n",
       "      <td>600.0</td>\n",
       "    </tr>\n",
       "    <tr>\n",
       "      <th>4</th>\n",
       "      <td>2023-10-03</td>\n",
       "      <td>South</td>\n",
       "      <td>Widget A</td>\n",
       "      <td>200</td>\n",
       "      <td>5.0</td>\n",
       "      <td>1000.0</td>\n",
       "    </tr>\n",
       "  </tbody>\n",
       "</table>\n",
       "</div>"
      ],
      "text/plain": [
       "         Date Region   Product  UnitsSold  Price  Revenue\n",
       "0  2023-10-01  North  Widget A        100    5.0    500.0\n",
       "1  2023-10-01  South  Widget B        150    7.5   1125.0\n",
       "2  2023-10-02  North  Widget B         80    7.5    600.0\n",
       "3  2023-10-02   West  Widget A        120    5.0    600.0\n",
       "4  2023-10-03  South  Widget A        200    5.0   1000.0"
      ]
     },
     "execution_count": 7,
     "metadata": {},
     "output_type": "execute_result"
    }
   ],
   "source": [
    "# 1. Load the data\n",
    "sales_df = pd.read_csv('data_files/sales.csv')\n",
    "\n",
    "# 2. Create the 'Revenue' column (Vectorized operation)\n",
    "sales_df['Revenue'] = sales_df['UnitsSold'] * sales_df['Price']\n",
    "\n",
    "# 3. Group by region and sum the revenue\n",
    "revenue_by_region = sales_df.groupby('Region')['Revenue'].sum()\n",
    "\n",
    "print(\"--- Revenue by Region ---\")\n",
    "print(revenue_by_region)\n",
    "\n",
    "sales_df.head()"
   ]
  },
  {
   "cell_type": "markdown",
   "id": "5b7f694e",
   "metadata": {},
   "source": [
    "**Advantage Python:** While simple, these three steps are now a **reproducible recipe**. If you receive an updated `sales.csv` next month, you just re-run this single cell. No manual steps are required."
   ]
  },
  {
   "cell_type": "markdown",
   "id": "bcc735a3",
   "metadata": {},
   "source": [
    "---"
   ]
  },
  {
   "cell_type": "markdown",
   "id": "60736e35",
   "metadata": {},
   "source": [
    "### Scenario 2: Data Cleaning & Automation (Excel Starts to Fail)\n",
    "\n",
    "**Task:** From the messy transactions data, calculate the total value of all successfully completed transactions.\n",
    "\n",
    "**Excel Approach:** This becomes tedious. You'd need to:\n",
    "1. Use `TRIM` and `LOWER` functions in a new column to standardize the 'Status' text.\n",
    "2. Manually find and delete the row with the missing 'Amount'.\n",
    "3. Apply a filter to the standardized 'Status' column to show only 'completed'.\n",
    "4. Use the `SUM` function on the visible 'Amount' cells.\n",
    "This is prone to error and must be repeated every time you get new data."
   ]
  },
  {
   "cell_type": "code",
   "execution_count": 9,
   "id": "ff092d21",
   "metadata": {},
   "outputs": [
    {
     "name": "stdout",
     "output_type": "stream",
     "text": [
      "--- Original Data ---\n",
      "   TransactionID         Timestamp  CustomerID  Amount      Status\n",
      "0              1  2023-11-01 09:02         101  150.00   Completed\n",
      "1              2  2023-11-01 09:05         102   75.50   completed\n",
      "2              3  2023-11-01 09:06         101     NaN  COMPLETED \n",
      "3              4  2023-11-01 09:10         103   25.00      failed\n",
      "4              5  2023-11-01 09:12         104  500.00   Completed\n",
      "5              6  2023-11-01 09:15         102   15.25   Completed\n",
      "\n",
      "--- Cleaned Data ---\n",
      "   TransactionID         Timestamp  CustomerID  Amount     Status\n",
      "0              1  2023-11-01 09:02         101  150.00  completed\n",
      "1              2  2023-11-01 09:05         102   75.50  completed\n",
      "3              4  2023-11-01 09:10         103   25.00     failed\n",
      "4              5  2023-11-01 09:12         104  500.00  completed\n",
      "5              6  2023-11-01 09:15         102   15.25  completed\n",
      "\n",
      "Total value of completed transactions: $740.75\n"
     ]
    }
   ],
   "source": [
    "# 1. Load the messy data\n",
    "trans_df = pd.read_csv('data_files/transactions.csv')\n",
    "print(\"--- Original Data ---\")\n",
    "print(trans_df)\n",
    "\n",
    "# 2. Clean the data in a few lines\n",
    "trans_df.dropna(inplace=True)  # Remove rows with any missing values\n",
    "trans_df['Status'] = trans_df['Status'].str.lower().str.strip() # Standardize text\n",
    "\n",
    "print(\"\\n--- Cleaned Data ---\")\n",
    "print(trans_df)\n",
    "\n",
    "# 3. Filter for completed transactions and calculate total value\n",
    "completed_transactions = trans_df[trans_df['Status'] == 'completed']\n",
    "total_value = completed_transactions['Amount'].sum()\n",
    "\n",
    "print(f\"\\nTotal value of completed transactions: ${total_value:.2f}\")"
   ]
  },
  {
   "cell_type": "markdown",
   "id": "3fca0407",
   "metadata": {},
   "source": [
    "**Advantage Python:** The entire cleaning and calculation process is automated. This script is not only faster but also more reliable and transparent than a series of manual clicks."
   ]
  },
  {
   "cell_type": "markdown",
   "id": "eb7d5e81",
   "metadata": {},
   "source": [
    "---"
   ]
  },
  {
   "cell_type": "markdown",
   "id": "0020b3fd",
   "metadata": {},
   "source": [
    "### Scenario 3: Merging Data & Advanced Visualization (Impractical in Excel)\n",
    "\n",
    "**Task:** Combine the cleaned transaction data with customer demographics to find the average transaction amount by location. Then, visualize the distribution of transaction amounts per location.\n",
    "\n",
    "**Excel Approach:** This is extremely difficult. You would need to use `VLOOKUP` to bring the customer location into the transaction sheet, which is slow on large datasets and can break easily. Then, you'd create a Pivot Table for the average amount. Creating a statistical chart like a box plot to show distribution is not a standard feature."
   ]
  },
  {
   "cell_type": "code",
   "execution_count": 10,
   "id": "ea031760",
   "metadata": {},
   "outputs": [
    {
     "name": "stdout",
     "output_type": "stream",
     "text": [
      "--- Merged Data ---\n",
      "   TransactionID         Timestamp  CustomerID  Amount     Status AgeGroup  \\\n",
      "0              1  2023-11-01 09:02         101  150.00  completed    25-34   \n",
      "1              2  2023-11-01 09:05         102   75.50  completed    35-44   \n",
      "2              5  2023-11-01 09:12         104  500.00  completed    45-54   \n",
      "3              6  2023-11-01 09:15         102   15.25  completed    35-44   \n",
      "\n",
      "  Location  \n",
      "0    North  \n",
      "1     West  \n",
      "2    South  \n",
      "3     West  \n",
      "\n",
      "--- Average Transaction Amount by Location ---\n",
      "Location\n",
      "North    150.000\n",
      "South    500.000\n",
      "West      45.375\n",
      "Name: Amount, dtype: float64\n"
     ]
    },
    {
     "data": {
      "image/png": "[encoded data removed]",
      "text/plain": [
       "<Figure size 1000x600 with 1 Axes>"
      ]
     },
     "metadata": {},
     "output_type": "display_data"
    }
   ],
   "source": [
    "# 1. Load the customer data\n",
    "cust_df = pd.read_csv('data_files/customers.csv')\n",
    "\n",
    "# 2. Merge the two dataframes (like a super-powered VLOOKUP)\n",
    "# We'll use the cleaned 'completed_transactions' from the previous step\n",
    "merged_df = pd.merge(completed_transactions, cust_df, on='CustomerID')\n",
    "\n",
    "print(\"--- Merged Data ---\")\n",
    "print(merged_df)\n",
    "\n",
    "# 3. Calculate average transaction amount by location\n",
    "avg_by_location = merged_df.groupby('Location')['Amount'].mean()\n",
    "\n",
    "print(\"\\n--- Average Transaction Amount by Location ---\")\n",
    "print(avg_by_location)\n",
    "\n",
    "# 4. Create a sophisticated visualization (Box Plot)\n",
    "plt.figure(figsize=(10, 6))\n",
    "sns.boxplot(x='Location', y='Amount', data=merged_df)\n",
    "plt.title('Distribution of Transaction Amounts by Location')\n",
    "plt.show()"
   ]
  },
  {
   "cell_type": "markdown",
   "id": "10d5bc41",
   "metadata": {},
   "source": [
    "**Advantage Python:** This entire workflow—merging disparate data sources, performing multi-level aggregations, and creating advanced statistical visualizations—is where Python and its libraries are untouchable. It's a clear, powerful, and extensible way to derive deep insights from your data that would be out of reach for a spreadsheet user."
   ]
  },
  {
   "cell_type": "code",
   "execution_count": null,
   "id": "a0fa2e18",
   "metadata": {
    "vscode": {
     "languageId": "julia"
    }
   },
   "outputs": [],
   "source": [
    "import pandas as pd\n",
    "import numpy as np\n",
    "from faker import Faker\n",
    "\n",
    "# Initialize Faker\n",
    "fake = Faker()\n",
    "\n",
    "# Generate sample sales data\n",
    "np.random.seed(42)\n",
    "sales_data = {\n",
    "    \"Date\": pd.date_range(start=\"2023-10-01\", periods=6, freq=\"D\"),\n",
    "    \"Region\": np.random.choice([\"North\", \"South\", \"West\"], size=6),\n",
    "    \"Product\": np.random.choice([\"Widget A\", \"Widget B\", \"Widget C\"], size=6),\n",
    "    \"UnitsSold\": np.random.randint(50, 200, size=6),\n",
    "    \"Price\": np.random.choice([5.00, 7.50, 12.00], size=6),\n",
    "}\n",
    "sales_df = pd.DataFrame(sales_data)\n",
    "sales_df[\"Revenue\"] = sales_df[\"UnitsSold\"] * sales_df[\"Price\"]\n",
    "\n",
    "# Generate sample transaction data\n",
    "transaction_data = {\n",
    "    \"TransactionID\": range(1, 7),\n",
    "    \"Timestamp\": [fake.date_time_this_month() for _ in range(6)],\n",
    "    \"CustomerID\": np.random.randint(101, 105, size=6),\n",
    "    \"Amount\": np.random.choice([15.25, 25.00, 75.50, 150.00, 500.00], size=6),\n",
    "    \"Status\": np.random.choice([\"Completed\", \"completed\", \"failed\", \"COMPLETED \"], size=6),\n",
    "}\n",
    "trans_df = pd.DataFrame(transaction_data)\n",
    "\n",
    "# Generate sample customer data\n",
    "customer_data = {\n",
    "    \"CustomerID\": range(101, 105),\n",
    "    \"AgeGroup\": np.random.choice([\"18-24\", \"25-34\", \"35-44\", \"45-54\"], size=4),\n",
    "    \"Location\": np.random.choice([\"North\", \"South\", \"West\"], size=4),\n",
    "}\n",
    "cust_df = pd.DataFrame(customer_data)\n",
    "\n",
    "# Save to CSV files (optional)\n",
    "sales_df.to_csv(\"data_files/sales.csv\", index=False)\n",
    "trans_df.to_csv(\"data_files/transactions.csv\", index=False)\n",
    "cust_df.to_csv(\"data_files/customers.csv\", index=False)\n",
    "\n",
    "print(\"Sample data generated successfully.\")"
   ]
  }
 ],
 "metadata": {
  "kernelspec": {
   "display_name": "base",
   "language": "python",
   "name": "python3"
  },
  "language_info": {
   "codemirror_mode": {
    "name": "ipython",
    "version": 3
   },
   "file_extension": ".py",
   "mimetype": "text/x-python",
   "name": "python",
   "nbconvert_exporter": "python",
   "pygments_lexer": "ipython3",
   "version": "3.12.7"
  }
 },
 "nbformat": 4,
 "nbformat_minor": 5
}
