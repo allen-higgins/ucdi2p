{
 "cells": [
  {
   "cell_type": "markdown",
   "id": "32123c05",
   "metadata": {},
   "source": [
    "# Session 2: Python Fundamentals I - The Building Blocks\n",
    "\n",
    "**Objective:** Grasp the basic syntax and data types of Python."
   ]
  },
  {
   "cell_type": "markdown",
   "id": "0673d761",
   "metadata": {},
   "source": [
    "## Recap from Session 1: Types, Variables, Operators, I/O.\n"
   ]
  },
  {
   "cell_type": "markdown",
   "id": "6f9675be-46ad-4dfd-b4d2-8c22281e5893",
   "metadata": {},
   "source": [
    "**Practical Exercise**\n",
    "\n",
    "In the code cell below, enter code that implements the following requirements:\n",
    "* Assign a value of 150.75 to the variable 'stock_price'\n",
    "* Print the value stored in the variable 'stock_price\n"
   ]
  },
  {
   "cell_type": "code",
   "execution_count": null,
   "id": "89c9c02b",
   "metadata": {},
   "outputs": [],
   "source": [
    "# This is a code cell. \n",
    "# Enter the code as instructed above \n",
    "# then click the 'play' button or select 'Run'.\n"
   ]
  },
  {
   "cell_type": "markdown",
   "id": "5301deef",
   "metadata": {},
   "source": [
    "### Core Data Types\n",
    "\n",
    "Python has four fundamental data types: integer (int), floating point (float), string (str), and Boolean (bool).\n",
    "\n",
    "**Practical Exercise**\n",
    "\n",
    "Click the 'play' button or select 'Run' to run the code below for examples of how Python handles these core data types."
   ]
  },
  {
   "cell_type": "code",
   "execution_count": null,
   "id": "c2516f51",
   "metadata": {},
   "outputs": [],
   "source": [
    "# This is a code cell. \n",
    "# Click the 'play' button or select 'Run'.\n",
    "\n",
    "# Integer (int): Whole numbers, positive or negative.\n",
    "number_of_shares = 200\n",
    "print(f\"Number of Shares: {number_of_shares}\")\n",
    "print(type(number_of_shares))\n",
    "\n",
    "# Float (float): Numbers with a decimal point.\n",
    "market_cap_in_trillions = 2.89\n",
    "print(f\"Market Cap: ${market_cap_in_trillions}T\")\n",
    "print(type(market_cap_in_trillions))\n",
    "\n",
    "# String (str): Textual data, enclosed in single or double quotes.\n",
    "asset_class = \"Equities\"\n",
    "print(f\"Asset Class: {asset_class}\")\n",
    "print(type(asset_class))\n",
    "\n",
    "# Boolean (bool): Represents one of two values: True or False. Essential for logic.\n",
    "is_profitable = True\n",
    "print(f\"Is the company profitable? {is_profitable}\")\n",
    "print(type(is_profitable))"
   ]
  },
  {
   "cell_type": "markdown",
   "id": "10bb1dd3",
   "metadata": {},
   "source": [
    "### Arithmetic Operators\n",
    "\n",
    "Arithmetic operators are the symbols we use to perform mathematical calculations on numbers and variables."
   ]
  },
  {
   "cell_type": "markdown",
   "id": "5a4acebc-5213-47de-9229-32566e953d93",
   "metadata": {},
   "source": [
    "Addition (+) behaves as numerical addition when operating on numbers and variables of type int and float. It behaves as a concatenation operator when used with strings and string variables.\n",
    "\n",
    "Subtraction (-) and Division (/) are limited to numerical calculations. \n",
    "\n",
    "An int is always produced when two integers are computed. The outcome is always a float when one of the operands is a float. The reasoning being to preserve a result if it results in a more precise calculation.\n",
    "\n",
    "Multiplication (*) performs numerical multiplication when operating on numbers. It behaves as concatenation if one of the operands is a number and the other a string. \n",
    "\n",
    "Exponentiation is a ubiquitous mathematical operation. However, the syntax for exponentiation varies between programming languages. In some languages, the caret ( ^ ) is the exponentiation operator. In other languages, including Python, it's the double-asterisk ( ** )\n",
    "\n",
    "Modulus (%) calculates the remainder of a division and is useful for checking for divisibility.\n",
    "\n",
    "In Python, you can use the + (addition) and * (multiplication) operators with strings, but operators like - (subtraction), / (division), // (floor division), % (modulus), and ** (exponentiation) cannot be used with strings. Trying to use these unsupported operators with strings will result in a TypeError. "
   ]
  },
  {
   "cell_type": "code",
   "execution_count": null,
   "id": "c6f31ba8",
   "metadata": {},
   "outputs": [],
   "source": [
    "# This is a code cell. \n",
    "# Click the 'play' button or select 'Run'.\n",
    "\n",
    "price_today = 150.00\n",
    "price_yesterday = 148.50\n",
    "shares_held = 100\n",
    "\n",
    "# Addition (+): Calculate total portfolio value\n",
    "# For simplicity, let's assume another asset\n",
    "portfolio_value = (price_today * shares_held) + (50 * 25.00)\n",
    "print(f\"Total Portfolio Value: ${portfolio_value}\")\n",
    "\n",
    "# Subtraction (-): Calculate price change\n",
    "price_change = price_today - price_yesterday\n",
    "print(f\"Price Change: ${price_change:.2f}\") # .2f formats to 2 decimal places\n",
    "\n",
    "# Multiplication (*): Calculate the value of a holding\n",
    "holding_value = price_today * shares_held\n",
    "print(f\"Value of Holding: ${holding_value}\")\n",
    "\n",
    "# Division (/): Calculate a ratio\n",
    "pe_ratio = price_today / 10.5 # Assuming earnings per share is 10.5\n",
    "print(f\"P/E Ratio: {pe_ratio:.2f}\")\n",
    "\n",
    "# Exponentiation (**): Used in compound interest formulas\n",
    "compounded_value = 100 * (1.05**3) # 100 at 5% for 3 years\n",
    "print(f\"Value after 3 years: ${compounded_value:.2f}\")\n",
    "\n",
    "# Modulus (%): Find the remainder of a division.\n",
    "is_even_lot = shares_held % 100 == 0 # Checks if shares are in a round lot of 100\n",
    "print(f\"Is it a round lot? {is_even_lot}\")"
   ]
  },
  {
   "cell_type": "markdown",
   "id": "fed9a6bb",
   "metadata": {},
   "source": [
    "### String Manipulation\n",
    "\n",
    "Often you'll need to combine or format text for reports or outputs."
   ]
  },
  {
   "cell_type": "code",
   "execution_count": null,
   "id": "7fa1decb",
   "metadata": {},
   "outputs": [],
   "source": [
    "# This is a code cell. \n",
    "# Click the 'play' button or select 'Run'.\n",
    "\n",
    "# Concatenation: Joining strings together with +\n",
    "ticker = \"AAPL\"\n",
    "report_header = \"Financial Report for \" + ticker\n",
    "print(report_header)\n",
    "\n",
    "# f-strings: A modern and powerful way to embed variables directly in strings.\n",
    "price = 175.50\n",
    "report_summary = f\"The current price for {ticker} is ${price}.\"\n",
    "print(report_summary)\n",
    "\n",
    "# Slicing: Extracting a part of a string using indexes (starts at 0)\n",
    "date_string = \"2023-10-27\"\n",
    "year = date_string[0:4]  # Get characters from index 0 up to (but not including) 4\n",
    "month = date_string[5:7]\n",
    "day = date_string[8:10]\n",
    "print(f\"Year: {year}, Month: {month}, Day: {day}\")"
   ]
  },
  {
   "cell_type": "markdown",
   "id": "34d96022",
   "metadata": {},
   "source": [
    "### Basic Input/Output (I/O)\n",
    "\n",
    "We have already seen `print()` used to display information and `input()` to get information from the user. \n",
    "\n",
    "**Crucial Point:** The `input()` function **always** returns the data as a string. If you want to use it as a number, you must convert it using `int()` or `float()`.\n",
    "\n",
    "Practical Exercise\n",
    "\n",
    "In the code cell below, "
   ]
  },
  {
   "cell_type": "code",
   "execution_count": null,
   "id": "8e7621c3",
   "metadata": {},
   "outputs": [],
   "source": [
    "# This is a code cell. \n",
    "# Click the 'play' button or select 'Run'.\n",
    "\n",
    "user_name = input(\"Please enter your name: \")\n",
    "print(f\"Hello, {user_name}!\")\n",
    "\n",
    "shares_to_buy_str = input(\"How many shares do you want to buy? \")\n",
    "print(f\"The data type of the input is: {type(shares_to_buy_str)}\")\n",
    "\n",
    "# Now, let's convert it to an integer to use in a calculation\n",
    "shares_to_buy_int = int(shares_to_buy_str)\n",
    "print(f\"The data type after conversion is: {type(shares_to_buy_int)}\")\n",
    "\n",
    "cost = shares_to_buy_int * 150.00 # Assume price is $150\n",
    "print(f\"That will cost you ${cost:.2f}\")"
   ]
  },
  {
   "cell_type": "markdown",
   "id": "486dc596",
   "metadata": {},
   "source": [
    "Are  you curious about the new code in the final print function?\n",
    "\n",
    "`print(f\"That will cost you ${cost:.2f}\")` \n",
    "\n",
    "What does it do? How does it work?\n",
    "I'm glad you asked.\n"
   ]
  },
  {
   "cell_type": "markdown",
   "id": "db956a28-f6c5-433a-a05b-291c543ff5e0",
   "metadata": {},
   "source": [
    "Now, you may have stumbled upon a problem when you entered the number of shares to buy. Perhaps you thought, will it accept a fraction of a share, for example, can I buy '100.5' shares? Let's test it again and see...\n",
    "\n",
    "\n",
    "Regardless of whether it is possible to buy fractions of shares, why does Python get upset when you enter a non-integer value? After all, the initial data type is `<class 'str'>` as we can see in the output. Wouldn't the `int()` function just force the string to be converted to an integer, automatically ignoring the 'floating point' part of the string?\n",
    "\n"
   ]
  },
  {
   "cell_type": "markdown",
   "id": "8b33af94",
   "metadata": {},
   "source": [
    "### Finance Example: Simple & Compound Interest Calculator\n",
    "\n",
    "**Task:** Write a script that calculates both simple and compound interest based on user inputs.\n",
    "\n",
    "**Formulas:**\n",
    "- **Simple Interest:** `Principal * Rate * Time`\n",
    "- **Compound Interest:** `Principal * ( (1 + Rate) ** Time )`\n",
    "\n",
    "Complete the code in the cell below."
   ]
  },
  {
   "cell_type": "code",
   "execution_count": null,
   "id": "3e86b5a3",
   "metadata": {},
   "outputs": [],
   "source": [
    "# Step 1: Get user input for principal, rate, and time.\n",
    "# Remember that rate should be a decimal (e.g., 5% is 0.05).\n",
    "principal_str = input(\"Enter the principal amount: \")\n",
    "rate_str = input(\"Enter the annual interest rate (as a decimal, e.g., 0.05 for 5%): \")\n",
    "time_str = input(\"Enter the number of years: \")\n",
    "\n",
    "# Step 2: Convert the string inputs into numerical types (floats).\n",
    "principal = float(principal_str)\n",
    "rate = float(rate_str)\n",
    "time = float(time_str)\n",
    "\n",
    "# Step 3: Calculate simple interest and the total value.\n",
    "simple_interest = principal * rate * time\n",
    "total_value_simple = principal + simple_interest\n",
    "\n",
    "# Step 4: Calculate the total value with compound interest.\n",
    "total_value_compound = principal * ((1 + rate) ** time)\n",
    "compound_interest_earned = total_value_compound - principal\n",
    "\n",
    "# Step 5: Print the results in a clear, formatted way.\n",
    "print(\"\\n--- Interest Calculation Results ---\")\n",
    "print(f\"Initial Principal: ${principal:,.2f}\")\n",
    "print(f\"Annual Rate: {rate:.2%}\")\n",
    "print(f\"Time: {time} years\")\n",
    "print(\"-\"*20)\n",
    "print(\"Simple Interest:\")\n",
    "print(f\"  Interest Earned: ${simple_interest:,.2f}\")\n",
    "print(f\"  Total Value after {time} years: ${total_value_simple:,.2f}\")\n",
    "print(\"-\"*20)\n",
    "print(\"Compound Interest:\")\n",
    "print(f\"  Interest Earned: ${compound_interest_earned:,.2f}\")\n",
    "print(f\"  Total Value after {time} years: ${total_value_compound:,.2f}\")\n",
    "print(\"-\"*20)"
   ]
  },
  {
   "cell_type": "markdown",
   "id": "1e9d3ed1-60d4-41cd-9801-1aec9b887eee",
   "metadata": {},
   "source": [
    "## Naming Variables and Other Things\n",
    "\n",
    "Does it matter, how we name variables and methods and functions and classes and packages (and more)?\n",
    "\n",
    "Yes, it does! The way we name things conveys information about what they are and their intended use. So yes, we should care about how we name variables and other things in our code. Because readability is important. Readable code is code you'll understand more easily.\n",
    "\n",
    "\"**Readability counts**\". A quote from the PEP 8 Style Guide \"One of Guido’s key insights is that code is read much more often than it is written\". So Guido, and the community of Open Source Software (OSS) volunteers who support Python apply the style guide to their own code (code we consume when we write our own code).\n",
    "\n",
    "What kinds of patterns can we use in code? These patterns are strategies that aim to elegantly and readibly address the problem posed by the fact that, mostly, we cannot leave spaces between the different words when naming things. So, the four common patterns are: PascalCase, camelCase, snake_case, and kebab-case.\n",
    "\n",
    "1. Pascal case capitalizes the first letter of every word (PascalCase), typically for class names in languages like C# and Java.\n",
    "1. Camel case uses a capital letter for each word except the first (camelCase), often for variables and functions in Java and JavaScript.\n",
    "1. Snake case uses underscores (snake_case) for separating words, common in Python and JavaScript for variables and functions.\n",
    "1. Kebab case uses hyphens (kebab-case), frequently used for CSS class names, file names, and URLs. \n",
    "\n",
    "For more read [What's the Difference Between Casings?](https://www.freecodecamp.org/news/snake-case-vs-camel-case-vs-pascal-case-vs-kebab-case-whats-the-difference/)\n",
    "\n",
    "### When to Use\n",
    "Whether you are aware of it or not at first, you are already immersed in a naming convention. You encountered it in the examples introduced in class, you see it in the syntax that Python packages and functions require. What you see influences what you do. The best practice is to consciously adhere to the established coding standards of the programming language or framework you are using.\n",
    "\n",
    "Maintain consistency within your own project. Use the same naming rules for specific types of identifier to ensure clarity and readability. If working on a team then use the team's or the organisation's standard. This helps others read your code and it helps you to read other's code, especially useful in large organisations and for software that persists for a long time.\n",
    "\n",
    "### Further Reading\n",
    "The [PEP 8](https://peps.python.org/pep-0008/) page contains the official style guide for Python code."
   ]
  },
  {
   "cell_type": "markdown",
   "id": "b2cd2ccb-d8dc-4e9f-afd7-f26b3b317cbb",
   "metadata": {},
   "source": [
    "## IPython vs Interpreter Console\n",
    "\n",
    "What is the difference between an IPython program and a Python program script (.py) program? IPython and .py programs represent different approaches to Python development, each with distinct characteristics and use cases.\n",
    "\n",
    "IPython (Interactive Python) is an enhanced interactive shell that provides:\n",
    "\n",
    "- **Rich interactive environment** with features like tab completion, syntax highlighting, and magic commands\n",
    "- **Cell-based execution** in Jupyter notebooks (.ipynb files)\n",
    "- **In-line data visualization** capabilities\n",
    "- **Rich media output** (HTML, images, videos)\n",
    "- **Interactive computing workflow** ideal for data exploration and iterative development\n",
    "- **Session state persistence** between code executions\n",
    "\n",
    "Python (.py) files are:\n",
    "\n",
    "- **Standard script files** containing Python code\n",
    "- **Executed from start to finish** in a single run\n",
    "- **Designed for production code** and reusable modules\n",
    "- **Easily importable** into other Python scripts\n",
    "- **Compatible with standard Python interpreter** without additional dependencies\n",
    "- **Better for version control** as they are plain text files\n",
    "\n",
    "IPython and (.py) scripts differ in significant ways:\n",
    "\n",
    "1. **Execution model**: IPython is interactive and cell-based; whereas (.py) files execute linearly\n",
    "2. **Development workflow**: IPython is exploratory and highly incremental whereas (.py) is more structured and monolithic (larger, potentially more brittle and difficult to debug)\n",
    "3. **Output handling**: IPython shows rich outputs inline or in the space below a code cell if using a notebook. (.py) typically outputs to console, the console is typically displayed within the Integrated Development Environment (IDE) you use, in our case VS Code\n",
    "4. **Use case**: IPython is handy for short learning exercises or discrete well-constrained data analysis and exploration. (.py) is used for applications and libraries; and expands to include other (.py) files, data files, code and packages.\n",
    "\n",
    "## Converting Python Programs to Standalone Executables\n",
    "Is it possible to compile or convert a .py python program into a standalone executable application? Yes, it's absolutely possible to convert a Python (.py) program into a standalone executable application. This process is called \"freezing\" or \"packaging\" and creates an executable that can run on systems without Python installed.\n",
    "\n",
    "### Considerations\n",
    "\n",
    "1. **Size**: Executables will be larger than your script as they include the Python interpreter and dependencies\n",
    "2. **Performance**: Startup time may be slower than running the script directly with Python\n",
    "3. **Compatibility**: You need to build on the same OS type you're targeting (Windows for Windows, etc.)\n",
    "4. **Dependencies**: Complex dependencies or system-level libraries may require additional configuration\n",
    "5. **Code protection**: While packaged, your code isn't truly secured and can be reverse-engineered\n",
    "\n",
    "Each packaging tool has its strengths and limitations, so the best choice depends on your specific requirements and target platform.\n",
    "\n",
    "### Packaging Tools\n",
    "\n",
    "There are several Python packages designed specifically for the purpose of converting your Python script(s) into standalone executables:\n",
    "\n",
    "#### PyInstaller\n",
    "PyInstaller is one of the most popular tools for creating standalone executables. It works across platforms (Windows, macOS, Linux) and bundles your Python application along with the Python interpreter and all dependencies.\n",
    "\n",
    "#### cx_Freeze\n",
    "Another cross-platform solution that converts Python scripts into executables by creating a directory containing the executable and all necessary dependencies.\n",
    "\n",
    "#### py2exe (Windows-specific)\n",
    "A tool specifically designed for Windows that converts Python scripts into Windows executable programs.\n",
    "\n",
    "#### py2app (macOS-specific)\n",
    "Similar to py2exe but designed for creating macOS applications.\n",
    "\n",
    "#### Nuitka\n",
    "A Python compiler that can compile Python code to standalone executables with better performance characteristics.\n"
   ]
  }
 ],
 "metadata": {
  "kernelspec": {
   "display_name": "Python [conda env:base] *",
   "language": "python",
   "name": "conda-base-py"
  },
  "language_info": {
   "codemirror_mode": {
    "name": "ipython",
    "version": 3
   },
   "file_extension": ".py",
   "mimetype": "text/x-python",
   "name": "python",
   "nbconvert_exporter": "python",
   "pygments_lexer": "ipython3",
   "version": "3.12.7"
  }
 },
 "nbformat": 4,
 "nbformat_minor": 5
}
